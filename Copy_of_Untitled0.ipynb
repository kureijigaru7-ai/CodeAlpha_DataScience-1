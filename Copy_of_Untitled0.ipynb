{
  "nbformat": 4,
  "nbformat_minor": 0,
  "metadata": {
    "colab": {
      "provenance": [],
      "authorship_tag": "ABX9TyN4dj8z+RwxLuSM+joEVO11",
      "include_colab_link": true
    },
    "kernelspec": {
      "name": "python3",
      "display_name": "Python 3"
    },
    "language_info": {
      "name": "python"
    }
  },
  "cells": [
    {
      "cell_type": "markdown",
      "metadata": {
        "id": "view-in-github",
        "colab_type": "text"
      },
      "source": [
        "<a href=\"https://colab.research.google.com/github/kureijigaru7-ai/CodeAlpha_DataScience-1/blob/main/Copy_of_Untitled0.ipynb\" target=\"_parent\"><img src=\"https://colab.research.google.com/assets/colab-badge.svg\" alt=\"Open In Colab\"/></a>"
      ]
    },
    {
      "cell_type": "code",
      "execution_count": null,
      "metadata": {
        "colab": {
          "base_uri": "https://localhost:8080/"
        },
        "id": "wRZeE90BJ8pZ",
        "outputId": "d38562e9-848c-497b-b506-21543c006856"
      },
      "outputs": [
        {
          "output_type": "stream",
          "name": "stdout",
          "text": [
            "Iris Classification completed! Accuracy: 1.00\n"
          ]
        }
      ],
      "source": [
        "# Iris Flower Classification - CodeAlpha Task\n",
        "# By: Kdsti Kidanemariam\n",
        "\n",
        "from sklearn.datasets import load_iris\n",
        "from sklearn.model_selection import train_test_split\n",
        "from sklearn.ensemble import RandomForestClassifier\n",
        "from sklearn.metrics import accuracy_score\n",
        "\n",
        "# Load dataset\n",
        "iris = load_iris()\n",
        "X, y = iris.data, iris.target\n",
        "\n",
        "# Split\n",
        "X_train, X_test, y_train, y_test = train_test_split(X, y, test_size=0.2, random_state=42)\n",
        "\n",
        "# Model\n",
        "model = RandomForestClassifier()\n",
        "model.fit(X_train, y_train)\n",
        "\n",
        "# Evaluate\n",
        "pred = model.predict(X_test)\n",
        "acc = accuracy_score(y_test, pred)\n",
        "print(f\"Iris Classification completed! Accuracy: {acc:.2f}\")"
      ]
    },
    {
      "cell_type": "code",
      "source": [
        "# Unemployment Analysis - CodeAlpha Task\n",
        "# By: Kdsti Kidanemariam\n",
        "\n",
        "import pandas as pd\n",
        "from sklearn.linear_model import LinearRegression\n",
        "\n",
        "# Synthetic data (for simplicity)\n",
        "data = {\n",
        "    'Year': [2018, 2019, 2020, 2021, 2022],\n",
        "    'Unemployment_Rate': [4.0, 4.2, 6.8, 5.4, 4.8],\n",
        "    'GDP_Growth': [2.9, 2.3, -3.4, 5.7, 2.1]\n",
        "}\n",
        "\n",
        "df = pd.DataFrame(data)\n",
        "\n",
        "X = df[['GDP_Growth']]\n",
        "y = df['Unemployment_Rate']\n",
        "\n",
        "model = LinearRegression()\n",
        "model.fit(X, y)\n",
        "\n",
        "print(\"Unemployment model trained successfully!\")\n",
        "print(f\"Example prediction (GDP Growth=3): {model.predict([[3]])[0]:.2f}%\")"
      ],
      "metadata": {
        "colab": {
          "base_uri": "https://localhost:8080/"
        },
        "id": "ZIgvwmJfKzkj",
        "outputId": "80796a7f-d72a-4958-ef24-9c8dd8349b35"
      },
      "execution_count": null,
      "outputs": [
        {
          "output_type": "stream",
          "name": "stdout",
          "text": [
            "Unemployment model trained successfully!\n",
            "Example prediction (GDP Growth=3): 4.81%\n"
          ]
        },
        {
          "output_type": "stream",
          "name": "stderr",
          "text": [
            "/usr/local/lib/python3.12/dist-packages/sklearn/utils/validation.py:2739: UserWarning: X does not have valid feature names, but LinearRegression was fitted with feature names\n",
            "  warnings.warn(\n"
          ]
        }
      ]
    },
    {
      "cell_type": "code",
      "source": [
        "# Car Price Prediction - CodeAlpha Task\n",
        "# By: Kdsti Kidanemariam\n",
        "\n",
        "import pandas as pd\n",
        "from sklearn.linear_model import LinearRegression\n",
        "\n",
        "# Simple synthetic dataset\n",
        "data = {\n",
        "    'Year': [2015, 2016, 2017, 2018, 2019, 2020],\n",
        "    'Mileage': [70000, 65000, 50000, 40000, 30000, 20000],\n",
        "    'Price': [5000, 7000, 8500, 9500, 11000, 13000]\n",
        "}\n",
        "\n",
        "df = pd.DataFrame(data)\n",
        "\n",
        "X = df[['Year', 'Mileage']]\n",
        "y = df['Price']\n",
        "\n",
        "model = LinearRegression()\n",
        "model.fit(X, y)\n",
        "\n",
        "print(\"Car Price Prediction model trained successfully!\")\n",
        "print(f\"Predicted price (Year=2021, Mileage=15000): ${model.predict([[2021, 15000]])[0]:.2f}\")"
      ],
      "metadata": {
        "colab": {
          "base_uri": "https://localhost:8080/"
        },
        "id": "siEqzLmQL6G_",
        "outputId": "d22a39ea-cb26-4db7-e518-73deee2df70c"
      },
      "execution_count": null,
      "outputs": [
        {
          "output_type": "stream",
          "name": "stdout",
          "text": [
            "Car Price Prediction model trained successfully!\n",
            "Predicted price (Year=2021, Mileage=15000): $14736.49\n"
          ]
        },
        {
          "output_type": "stream",
          "name": "stderr",
          "text": [
            "/usr/local/lib/python3.12/dist-packages/sklearn/utils/validation.py:2739: UserWarning: X does not have valid feature names, but LinearRegression was fitted with feature names\n",
            "  warnings.warn(\n"
          ]
        }
      ]
    },
    {
      "cell_type": "code",
      "source": [
        "# Sales Prediction - CodeAlpha Task\n",
        "# By: Kdsti Kidanemariam\n",
        "\n",
        "import pandas as pd\n",
        "from sklearn.linear_model import LinearRegression\n",
        "\n",
        "# Synthetic sales data\n",
        "data = {\n",
        "    'Advertising_Budget': [1000, 1500, 2000, 2500, 3000, 3500],\n",
        "    'Sales': [11000, 12500, 14200, 15500, 17200, 19000]\n",
        "}\n",
        "\n",
        "df = pd.DataFrame(data)\n",
        "\n",
        "X = df[['Advertising_Budget']]\n",
        "y = df['Sales']\n",
        "\n",
        "model = LinearRegression()\n",
        "model.fit(X, y)\n",
        "\n",
        "print(\"Sales Prediction model trained successfully!\")\n",
        "# Provide prediction data as a DataFrame with feature names\n",
        "prediction_data = pd.DataFrame([[4000]], columns=['Advertising_Budget'])\n",
        "print(f\"Predicted Sales for $4000 budget: ${model.predict(prediction_data)[0]:.2f}\")"
      ],
      "metadata": {
        "colab": {
          "base_uri": "https://localhost:8080/"
        },
        "id": "2aimadKgMRrR",
        "outputId": "141caefd-54ae-48ff-a18a-20ac9e4cf8fd"
      },
      "execution_count": null,
      "outputs": [
        {
          "output_type": "stream",
          "name": "stdout",
          "text": [
            "Sales Prediction model trained successfully!\n",
            "Predicted Sales for $4000 budget: $20440.00\n"
          ]
        }
      ]
    }
  ]
}